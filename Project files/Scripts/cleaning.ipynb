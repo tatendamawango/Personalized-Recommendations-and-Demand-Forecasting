{
 "cells": [
  {
   "cell_type": "code",
   "execution_count": 2,
   "metadata": {},
   "outputs": [],
   "source": [
    "import pandas as pd\n",
    "import sqlite3\n",
    "import numpy as np"
   ]
  },
  {
   "cell_type": "code",
   "execution_count": null,
   "metadata": {},
   "outputs": [],
   "source": [
    "customers_df = pd.read_csv('customers.csv')\n",
    "managers_df = pd.read_csv('managers.csv')\n",
    "orders_df = pd.read_csv('SimulatedOrders.csv')\n",
    "products_on_website_df = pd.read_csv('ProductsOnWebsite.csv')\n",
    "\n",
    "db_conn = sqlite3.connect('BigBasket.db')\n",
    "\n",
    "customers_df.to_sql('Customers', db_conn, if_exists='replace', index=False)\n",
    "managers_df.to_sql('Managers', db_conn, if_exists='replace', index=False)\n",
    "products_on_website_df.to_sql('ProductsOnWebsite', db_conn, if_exists='replace', index=False)\n",
    "orders_df.to_sql('Orders', db_conn, if_exists='replace', index=False)\n",
    "\n",
    "db_conn.close()\n"
   ]
  },
  {
   "cell_type": "code",
   "execution_count": null,
   "metadata": {},
   "outputs": [],
   "source": [
    "products_df = pd.read_csv('ProductsOnWebsite.csv')\n",
    "products_df = products_df.drop_duplicates(subset='ProductName', keep='first')\n",
    "\n",
    "num_customers = 1000\n",
    "orders_per_customer = 60\n",
    "total_orders = num_customers * orders_per_customer\n",
    "\n",
    "np.random.seed(42)\n",
    "\n",
    "customer_ids = np.repeat(np.arange(1, num_customers + 1), orders_per_customer)\n",
    "customer_ids = ['c' + str(i) for i in customer_ids] \n",
    "order_numbers = np.tile(np.arange(1, orders_per_customer + 1), num_customers)\n",
    "order_ids = [f'{cid}-{num}' for cid, num in zip(customer_ids, order_numbers)]\n",
    "\n",
    "all_orders = []\n",
    "\n",
    "current_date = pd.Timestamp('today')\n",
    "dates = pd.date_range(start=current_date - pd.DateOffset(years=1), end=current_date, periods=total_orders)\n",
    "date_list = dates.tolist()\n",
    "np.random.shuffle(date_list)\n",
    "\n",
    "product_price_dict = products_df.set_index('ProductName')['DiscountPrice'].to_dict()\n",
    "\n",
    "all_orders = []\n",
    "for customer_id, order_id, date in zip(customer_ids, order_ids, date_list):\n",
    "    num_items = np.random.randint(8, 21) \n",
    "    product_choices = np.random.choice(products_df['ProductName'], size=num_items)\n",
    "    quantities = np.random.randint(1, 6, size=num_items)\n",
    "    order_date = pd.Timestamp(date).strftime('%d/%m/%Y')\n",
    "\n",
    "    prices = [product_price_dict[product] * quantity for product, quantity in zip(product_choices, quantities)]\n",
    "\n",
    "    for product_name, quantity, price in zip(product_choices, quantities, prices):\n",
    "        all_orders.append([customer_id, order_id, product_name, quantity, order_date, price])\n",
    "\n",
    "orders_df = pd.DataFrame(all_orders, columns=['CustomerID', 'OrderID', 'ProductName', 'Quantity', 'OrderDate', 'Price'])\n",
    "\n",
    "orders_csv_path = 'SimulatedOrders.csv'\n",
    "orders_df.to_csv(orders_csv_path, index=False)\n",
    "\n",
    "orders_csv_path, orders_df.head()\n"
   ]
  }
 ],
 "metadata": {
  "kernelspec": {
   "display_name": "Python 3",
   "language": "python",
   "name": "python3"
  },
  "language_info": {
   "codemirror_mode": {
    "name": "ipython",
    "version": 3
   },
   "file_extension": ".py",
   "mimetype": "text/x-python",
   "name": "python",
   "nbconvert_exporter": "python",
   "pygments_lexer": "ipython3",
   "version": "3.12.1"
  }
 },
 "nbformat": 4,
 "nbformat_minor": 2
}
